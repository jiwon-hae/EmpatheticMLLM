version https://git-lfs.github.com/spec/v1
oid sha256:17bd0598d9c32a1fb151c6b2b952b3a614326c4717af021ea26c90dbbe63de85
size 21422
